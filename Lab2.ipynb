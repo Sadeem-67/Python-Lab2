{
 "cells": [
  {
   "cell_type": "markdown",
   "id": "567f31e2-10d6-4573-b638-68e828812cd3",
   "metadata": {},
   "source": [
    "- Create a variable for the movie (choose any movie you like)"
   ]
  },
  {
   "cell_type": "code",
   "execution_count": null,
   "id": "c11ad9d8-6d2e-4180-9a1e-8c674373d58e",
   "metadata": {},
   "outputs": [],
   "source": [
    "movie = \"Blacklist\""
   ]
  },
  {
   "cell_type": "markdown",
   "id": "1002acab-bb9b-4794-95c2-c8c3302341c6",
   "metadata": {},
   "source": [
    "- Create a variable of type int to hold the rating of the movie out of 5. Give this movie rate = 3"
   ]
  },
  {
   "cell_type": "code",
   "execution_count": 1,
   "id": "d62cf707-ed58-459c-9b90-c003a7f7feee",
   "metadata": {},
   "outputs": [],
   "source": [
    "movie_rate = 3"
   ]
  },
  {
   "cell_type": "markdown",
   "id": "5f401422-56d3-4fa4-a761-2921945e9460",
   "metadata": {},
   "source": [
    "- Create a popularity score of type float, let it be 72.65"
   ]
  },
  {
   "cell_type": "code",
   "execution_count": 2,
   "id": "c9d87971-e289-47db-9c99-7b9a0ade65b4",
   "metadata": {},
   "outputs": [],
   "source": [
    "popularity = 72.62"
   ]
  },
  {
   "cell_type": "markdown",
   "id": "d030b23f-714a-4a90-91e7-64d622e6aab9",
   "metadata": {},
   "source": [
    "- Using an if statement:\n",
    "   * Check if the movie rating is 4 or greater and the popularity is greater than 80, print \"Highly recommended\".\n",
    "   * Else if the movie rating is 3 or greater and the popularity is greater than 70, print \"I recommended it, It is good\".\n",
    "   * Else if the movie rating is 2 or less and the popularity is greater than 60, print \"You should check it out!\".\n",
    "   * Else the movie rating is 2 or less and the popularity is less than 50, print \"Don't watch it, It is a waste of time\""
   ]
  },
  {
   "cell_type": "code",
   "execution_count": 5,
   "id": "c7748c3d-0c84-4a64-ab7c-c1999e11daab",
   "metadata": {},
   "outputs": [
    {
     "name": "stdout",
     "output_type": "stream",
     "text": [
      "I recommended it, It is good\n"
     ]
    }
   ],
   "source": [
    "if movie_rate >= 4 and popularity > 80:\n",
    "    print(\"Highly recommended\")\n",
    "elif movie_rate >= 3 and popularity > 70:\n",
    "    print(\"I recommended it, It is good\")\n",
    "elif movie_rate <= 2 and popularity > 60:\n",
    "    print(\"You should check it out!\")  \n",
    "else :\n",
    "    print(\"Don't watch it, It is a waste of time\")"
   ]
  }
 ],
 "metadata": {
  "kernelspec": {
   "display_name": "Python 3 (ipykernel)",
   "language": "python",
   "name": "python3"
  },
  "language_info": {
   "codemirror_mode": {
    "name": "ipython",
    "version": 3
   },
   "file_extension": ".py",
   "mimetype": "text/x-python",
   "name": "python",
   "nbconvert_exporter": "python",
   "pygments_lexer": "ipython3",
   "version": "3.9.13"
  }
 },
 "nbformat": 4,
 "nbformat_minor": 5
}
